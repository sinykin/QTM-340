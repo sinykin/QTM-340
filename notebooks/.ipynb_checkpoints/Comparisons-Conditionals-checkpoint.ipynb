{
 "cells": [
  {
   "cell_type": "markdown",
   "metadata": {},
   "source": [
    "# Comparisons & Conditionals"
   ]
  },
  {
   "cell_type": "markdown",
   "metadata": {},
   "source": [
    "Writing Python code is a lot like writing a list of detailed instructions to the computer. Most of the time you will be asking the computer to perform certain tasks if certain conditions are met. For example:\n",
    "\n",
    "- *If a person in the dataset is older than 30, then print out their name*\n",
    "- *If a tweet contains the phrase \"ok boomer,\" then automatically retweet it*\n",
    "- *If Beyoncé is a Grammy award-winner, then say \"Congratulations, Beyoncé!*"
   ]
  },
  {
   "cell_type": "markdown",
   "metadata": {},
   "source": [
    "Here's how we would write out this last example in Python code:"
   ]
  },
  {
   "cell_type": "code",
   "execution_count": null,
   "metadata": {},
   "outputs": [],
   "source": [
    "beyonce = \"Grammy award-winner\""
   ]
  },
  {
   "cell_type": "code",
   "execution_count": null,
   "metadata": {},
   "outputs": [],
   "source": [
    "if beyonce == \"Grammy award-winner\":\n",
    "    print(\"Congratulations, Beyonce!\")"
   ]
  },
  {
   "cell_type": "markdown",
   "metadata": {},
   "source": [
    "There are two important Python elements present in the code above: a *comparison* and a *conditional*. We compared whether the variable `beyonce` is equal to the value `\"Grammy award-winner\"`. Then we printed \"Congratulations\" if this condition was `True`."
   ]
  },
  {
   "cell_type": "markdown",
   "metadata": {},
   "source": [
    "## Comparisons"
   ]
  },
  {
   "cell_type": "markdown",
   "metadata": {},
   "source": [
    "There are many ways that we can compare values with Python, such as equals (`==`), not equals (`!=`), greater than (`>`), less than (`<`), greater than or equal to (`>=`), or less than or equal to (`<=`)."
   ]
  },
  {
   "cell_type": "markdown",
   "metadata": {},
   "source": [
    "| **Comparison Operator** | **Explanation**                                                                                   |\n",
    "|:-------------:|:---------------------------------------------------------------------------------------------------:|\n",
    "| `x == y `         | `True` if x is equal to y                                                                                |\n",
    "| `x != y `         | `True` if x is not equal to y                                               |\n",
    "| `x > y`       |  `True` if x is greater than y                                                        |\n",
    "| `x < y`       |   `True` if x is less than y  \n",
    "| `x >= y`       |   `True` if x is greater than or equal to y |\n",
    "| `x <= y`      | `True` if x is less than or equal to y`                                                                             |\n",
    "                                                                      \n",
    "                                                           "
   ]
  },
  {
   "cell_type": "markdown",
   "metadata": {},
   "source": [
    "### Greater Than"
   ]
  },
  {
   "cell_type": "markdown",
   "metadata": {},
   "source": [
    "Is the variable `person1` greater than `person1`?"
   ]
  },
  {
   "cell_type": "code",
   "execution_count": null,
   "metadata": {
    "tags": [
     "hide-output"
    ]
   },
   "outputs": [],
   "source": [
    "person1 = 30\n",
    "person2 = 30.5\n",
    "person1 > person2"
   ]
  },
  {
   "cell_type": "markdown",
   "metadata": {},
   "source": [
    "### Not Equals"
   ]
  },
  {
   "cell_type": "markdown",
   "metadata": {},
   "source": [
    "Is the variable `person1` not equal to `person1`?"
   ]
  },
  {
   "cell_type": "code",
   "execution_count": null,
   "metadata": {
    "tags": [
     "hide-output"
    ]
   },
   "outputs": [],
   "source": [
    "person1 = 30\n",
    "person2 = 30.5\n",
    "person1 != person2"
   ]
  },
  {
   "cell_type": "markdown",
   "metadata": {},
   "source": [
    "We can also combine values and compare them. We can check to see if `x and y` are both `True` or if either `x or y` is `True`."
   ]
  },
  {
   "cell_type": "markdown",
   "metadata": {},
   "source": [
    "| **Logical Operator** | **Explanation**                                                                                   |\n",
    "|:-------------:|:---------------------------------------------------------------------------------------------------:|\n",
    "| `x and y`         | `True` if x and y are both True                                                                             |\n",
    "| `x or y`         | `True` if either x or y is True                                              |\n",
    "| `not x`       |  `True` if is x is not True                                                       |\n",
    "                                                            "
   ]
  },
  {
   "cell_type": "markdown",
   "metadata": {},
   "source": [
    "### And"
   ]
  },
  {
   "cell_type": "markdown",
   "metadata": {},
   "source": [
    "What will happen if we check whether `person1 > 30` and `person2 > 30`?"
   ]
  },
  {
   "cell_type": "code",
   "execution_count": null,
   "metadata": {
    "tags": [
     "hide-output"
    ]
   },
   "outputs": [],
   "source": [
    "person1 = 30\n",
    "person2 = 30.5\n",
    "person1 > 30 and person2 > 30"
   ]
  },
  {
   "cell_type": "markdown",
   "metadata": {},
   "source": [
    "The boolean answer is `False` because `person1` is not greater than 30 (`person1` is exactly 30) even though `person2` is greater than 30. The `and` requires that both conditions are `True.` "
   ]
  },
  {
   "cell_type": "code",
   "execution_count": null,
   "metadata": {},
   "outputs": [],
   "source": [
    "person1 = 30\n",
    "person2 = 30.5\n",
    "person1 >= 30 and person2 >= 30"
   ]
  },
  {
   "cell_type": "markdown",
   "metadata": {},
   "source": [
    "The boolean answer is `True` because `person1` is greater than or equal to 30 and `person2` is greater or equal to  30. The `and` requires that both conditions are `True.` "
   ]
  },
  {
   "cell_type": "markdown",
   "metadata": {},
   "source": [
    "### Or"
   ]
  },
  {
   "cell_type": "markdown",
   "metadata": {},
   "source": [
    "What will happen if we check whether `person1 > 30` or `person2 > 30`?"
   ]
  },
  {
   "cell_type": "code",
   "execution_count": null,
   "metadata": {
    "tags": [
     "hide-output"
    ]
   },
   "outputs": [],
   "source": [
    "person1 = 30\n",
    "person2 = 30.5\n",
    "person1 > 30 or person2 > 30"
   ]
  },
  {
   "cell_type": "markdown",
   "metadata": {},
   "source": [
    "The boolean answer is `True` because `person2` is greater than 30. The `or` requires that only one of the conditions is true."
   ]
  },
  {
   "cell_type": "markdown",
   "metadata": {},
   "source": [
    "## Conditionals"
   ]
  },
  {
   "cell_type": "markdown",
   "metadata": {},
   "source": [
    "### If Statement"
   ]
  },
  {
   "cell_type": "markdown",
   "metadata": {},
   "source": [
    "An `if` statement is an instruction to do something *if* a particular condition is met.\n",
    "\n",
    "A common conditional will consist of two lines: \n",
    "- On the first line, you type the English word `if` followed by an expression and then a colon (`:`) \n",
    "- On the second line, you indent and write an instruction or \"statement\" to be completed if the condition is met"
   ]
  },
  {
   "cell_type": "code",
   "execution_count": null,
   "metadata": {},
   "outputs": [],
   "source": [
    "beyonce = \"Grammy award-winner\""
   ]
  },
  {
   "cell_type": "code",
   "execution_count": null,
   "metadata": {
    "tags": [
     "hide-output"
    ]
   },
   "outputs": [],
   "source": [
    "if beyonce == \"Grammy award-winner\":\n",
    "    print(\"Congratulations, Beyonce!\")"
   ]
  },
  {
   "cell_type": "markdown",
   "metadata": {},
   "source": [
    "Python is picky about how you format `if` statements. Look what happens if we forget to tab over on the second line or if we forget the colon:"
   ]
  },
  {
   "cell_type": "code",
   "execution_count": null,
   "metadata": {
    "tags": [
     "hide-output"
    ]
   },
   "outputs": [],
   "source": [
    "if beyonce == \"Grammy award-winner\":\n",
    "print(\"Congratulations, Beyonce!\")"
   ]
  },
  {
   "cell_type": "code",
   "execution_count": null,
   "metadata": {
    "tags": [
     "hide-output"
    ]
   },
   "outputs": [],
   "source": [
    "if beyonce == \"Grammy award-winner\"\n",
    "    print(\"Congratulations, Beyonce!\")"
   ]
  },
  {
   "cell_type": "markdown",
   "metadata": {},
   "source": [
    "## Else Statement"
   ]
  },
  {
   "cell_type": "markdown",
   "metadata": {},
   "source": [
    "You can add even more complexity in a conditional by adding an `else` statement. This will instruct the program to do something in case the condition is not met. An `else` comes after an `if` statement and should be formatted it the same way."
   ]
  },
  {
   "cell_type": "code",
   "execution_count": null,
   "metadata": {},
   "outputs": [],
   "source": [
    "beyonce = \"not a Grammy award-winner this year\""
   ]
  },
  {
   "cell_type": "code",
   "execution_count": null,
   "metadata": {
    "tags": [
     "hide-output"
    ]
   },
   "outputs": [],
   "source": [
    "if beyonce == \"Grammy award-winner\":\n",
    "    print(\"Congratulations, Beyonce!\")\n",
    "else:\n",
    "    print(\"They messed up, Beyonce.\")"
   ]
  },
  {
   "cell_type": "markdown",
   "metadata": {},
   "source": [
    "## Elif Statement"
   ]
  },
  {
   "cell_type": "markdown",
   "metadata": {},
   "source": [
    "Sometimes you want even more nuance to respond to slightly different conditions. For example, if Beyonce was nominated for a Grammy but didn't win, then we might want to express a slightly different sentiment than if she won or was not nominated at all.\n",
    "\n",
    "You can add in this nuance with an `elif` statement, short for *else if*. The computer will evaluate the first `if` statement. If that statement is not `True`, it will then evaluate the `elif` statement."
   ]
  },
  {
   "cell_type": "code",
   "execution_count": null,
   "metadata": {},
   "outputs": [],
   "source": [
    "beyonce = \"Grammy award-nominee\""
   ]
  },
  {
   "cell_type": "code",
   "execution_count": null,
   "metadata": {
    "tags": [
     "hide-output"
    ]
   },
   "outputs": [],
   "source": [
    "if beyonce == \"Grammy award-winner\":\n",
    "    print(\"Congratulations, Beyonce!\")\n",
    "elif beyonce == \"Grammy award-nominee\":\n",
    "    print(\"Ok well at least they nominated you, Beyonce.\")\n",
    "else:\n",
    "    print(\"They messed up, Beyonce.\")"
   ]
  },
  {
   "cell_type": "markdown",
   "metadata": {},
   "source": [
    "## Excerises"
   ]
  },
  {
   "cell_type": "markdown",
   "metadata": {},
   "source": [
    "For the following exercises and the next few lessons, we're going to draw on Anelise Shrout's [Bellevue Almshouse Dataset](https://www.nyuirish.net/almshouse/the-almshouse-records/). The Bellevue Almshouse Dataset includes information about Irish-born immigrants who were admitted to the almshouse in the 1840s.\n",
    "\n",
    "The Bellevue Almshouse was part of New York City's public health system, a place where poor, sick, homeless, and otherwise marginalized people were sent — sometimes voluntarily and sometimes forcibly. Devastated by widespread famine in Ireland, many Irish people fled their homes for New York City in the 1840s, and many of them ended up in the Bellevue Almshouse. This dataset was transcribed from the almshouse's own admissions records."
   ]
  },
  {
   "cell_type": "code",
   "execution_count": null,
   "metadata": {
    "scrolled": true,
    "tags": [
     "remove-input",
     "output_scroll"
    ]
   },
   "outputs": [],
   "source": [
    "import pandas\n",
    "pandas.read_csv(\"../docs/bellevue_almshouse_modified.csv\").head(20)"
   ]
  },
  {
   "cell_type": "markdown",
   "metadata": {},
   "source": [
    "We're using the Bellevue Almshouse Dataset to practice `if`, `elif`, and `else` statements because we want to think deeply about the consequences of reducing human life to data and evaluating \"Truth\" in Pythonic terms even at this early stage in our Python journey."
   ]
  },
  {
   "cell_type": "markdown",
   "metadata": {},
   "source": [
    "As Shrout argues in her essay [\"(Re)Humanizing Data: Digitally Navigating the Bellevue Almshouse,\"](https://crdh.rrchnm.org/essays/v01-10-(re)-humanizing-data/) \"Nineteenth-century immigration data was produced with the express purpose of reducing people to bodies; bodies to easily quantifiable aspects; and assigning value to those aspects which proved that the marginalized people to who they belonged were worth less than their elite counterparts.\""
   ]
  },
  {
   "cell_type": "markdown",
   "metadata": {},
   "source": [
    "As you complete the exercises below, reflect about the categories that these Irish immigrants were slotted into by the government. For example, the so-called \"disease\" that many of the people in this dataset exhibited — the reason they were admitted to the Almshouse in the first place — is \"recent emigrant.\" What does this uncomfortable fact tell us about data more broadly? What should we make of the fact that Python, as a programming language, doesn't understand the meaning or historical context of this data?"
   ]
  },
  {
   "cell_type": "markdown",
   "metadata": {},
   "source": [
    "### Exercise 1"
   ]
  },
  {
   "cell_type": "code",
   "execution_count": null,
   "metadata": {},
   "outputs": [],
   "source": [
    "person1_name = 'Mary Gallagher'\n",
    "person1_age = 28\n",
    "person1_disease = 'recent emigrant'\n",
    "person1_profession = 'married'\n",
    "person1_gender = 'f'\n",
    "person1_child_status = 'Child Alana 10 days'"
   ]
  },
  {
   "cell_type": "markdown",
   "metadata": {},
   "source": [
    "Write an `if` statement that reports whether `person1_age` is less than 30 years old"
   ]
  },
  {
   "cell_type": "code",
   "execution_count": null,
   "metadata": {
    "tags": [
     "hide-output"
    ]
   },
   "outputs": [],
   "source": [
    "#Your code here\n",
    "    print('Person is less than 30 years old.')"
   ]
  },
  {
   "cell_type": "markdown",
   "metadata": {},
   "source": [
    "### Exercise 2\n",
    "Write an `if` statement that reports whether `person1_profession` is \"married\""
   ]
  },
  {
   "cell_type": "code",
   "execution_count": null,
   "metadata": {},
   "outputs": [],
   "source": [
    "#Your code here\n",
    "    print('Person is married.')"
   ]
  },
  {
   "cell_type": "markdown",
   "metadata": {},
   "source": [
    "### Exercise 3\n",
    "Write an `if` statement that reports whether `person1_age` is less than 30 years old *and* `person1_profession` is \"married\""
   ]
  },
  {
   "cell_type": "code",
   "execution_count": null,
   "metadata": {},
   "outputs": [],
   "source": [
    "#Your code here\n",
    "    print('Person is less than 30 years old and married.')"
   ]
  },
  {
   "cell_type": "markdown",
   "metadata": {},
   "source": [
    "### Exercise 4"
   ]
  },
  {
   "cell_type": "code",
   "execution_count": null,
   "metadata": {},
   "outputs": [],
   "source": [
    "person2_name = 'Anthony Clark'\n",
    "person2_age = 60\n",
    "person2_disease = 'recent emigrant'\n",
    "person2_profession = 'laborer'\n",
    "person2_gender = 'm'\n",
    "person2_child_status = 'Charles Riley afed 10 days'"
   ]
  },
  {
   "cell_type": "markdown",
   "metadata": {},
   "source": [
    "Combine an`if` statement with an `else` statement that will report whether `person2_age` is less than 30 years old or, if not, more than 30 years old"
   ]
  },
  {
   "cell_type": "code",
   "execution_count": null,
   "metadata": {},
   "outputs": [],
   "source": [
    "#Your code here\n",
    "    print('Person is less than 30 years old.')\n",
    "#Your code here\n",
    "    print('Person is more than 30 years old.')"
   ]
  },
  {
   "cell_type": "markdown",
   "metadata": {},
   "source": [
    "### Exercise 5"
   ]
  },
  {
   "cell_type": "code",
   "execution_count": null,
   "metadata": {},
   "outputs": [],
   "source": [
    "person3_name = 'Margaret Farrell'\n",
    "person3_age = 30\n",
    "person3_disease = 'recent emigrant'\n",
    "person3_profession = 'widow'\n",
    "person3_gender = 'w'\n",
    "person3_child_status = ''"
   ]
  },
  {
   "cell_type": "markdown",
   "metadata": {},
   "source": [
    "Add an `elif` statement that reports whether `person3_age` is exactly 30 years old"
   ]
  },
  {
   "cell_type": "code",
   "execution_count": null,
   "metadata": {},
   "outputs": [],
   "source": [
    "#Your code here\n",
    "    print('Person is less than 30 years old.')\n",
    "#Your code here\n",
    "    print('Person is exactly 30 years old.')\n",
    "#Your code here\n",
    "    print('Person is more than 30 years old.')"
   ]
  },
  {
   "cell_type": "markdown",
   "metadata": {},
   "source": [
    "### Exercise 6"
   ]
  },
  {
   "cell_type": "code",
   "execution_count": null,
   "metadata": {},
   "outputs": [],
   "source": [
    "person1_child_status = 'Child Alana 10 days'\n",
    "person3_child_status = ''"
   ]
  },
  {
   "cell_type": "markdown",
   "metadata": {},
   "source": [
    "Write an `if` statement that will report whether `person1_child_status` includes children"
   ]
  },
  {
   "cell_type": "code",
   "execution_count": null,
   "metadata": {},
   "outputs": [],
   "source": [
    "#Your code here\n",
    "    print('Person has children.')"
   ]
  },
  {
   "cell_type": "markdown",
   "metadata": {},
   "source": [
    "### Exercise 7\n",
    "Write a single `if` statement that will accurately report whether `person1_child_status` includes children and if `person3_child_status` includes children\n",
    "\n",
    "```{hint}\n",
    ":class: dropdown\n",
    "Think about how you might use the `!=` operator!  \n",
    "\n",
    "And remember that there's a difference between quotation marks with no space `''` and quotation marks with a space`' '`. Python is picky!\n",
    "```"
   ]
  },
  {
   "cell_type": "code",
   "execution_count": null,
   "metadata": {},
   "outputs": [],
   "source": [
    "if person1_child_status #Your Code Here\n",
    "    print('Person has children.')"
   ]
  },
  {
   "cell_type": "code",
   "execution_count": null,
   "metadata": {},
   "outputs": [],
   "source": [
    "if person2_child_status #Same Code Here\n",
    "    print('Person has children.')"
   ]
  },
  {
   "cell_type": "markdown",
   "metadata": {},
   "source": [
    "### Excerise 8"
   ]
  },
  {
   "cell_type": "code",
   "execution_count": null,
   "metadata": {},
   "outputs": [],
   "source": [
    "person1_profession = 'married'"
   ]
  },
  {
   "cell_type": "markdown",
   "metadata": {},
   "source": [
    "Write a conditional that will report whether `person1_profession` is \"married,\" \"laborer,\" \"widow,\" or \"unknown profession.\" Then test your code by reassigning the variable as indicated below."
   ]
  },
  {
   "cell_type": "code",
   "execution_count": null,
   "metadata": {},
   "outputs": [],
   "source": [
    "#Your code here\n",
    "    print('Person is married.')\n",
    "#Your code here\n",
    "    print('Person is a laborer.')\n",
    "#Your code here\n",
    "    print('Person is a widow.')\n",
    "#Your code here\n",
    "    print('Person has unknown profession.')"
   ]
  },
  {
   "cell_type": "code",
   "execution_count": null,
   "metadata": {},
   "outputs": [],
   "source": [
    "person1_profession = 'laborer'"
   ]
  },
  {
   "cell_type": "code",
   "execution_count": null,
   "metadata": {},
   "outputs": [],
   "source": [
    "#Your code here\n",
    "    print('Person is married.')\n",
    "#Your code here\n",
    "    print('Person is a laborer.')\n",
    "#Your code here\n",
    "    print('Person is a widow.')\n",
    "#Your code here\n",
    "    print('Person has unknown profession.')"
   ]
  },
  {
   "cell_type": "code",
   "execution_count": null,
   "metadata": {},
   "outputs": [],
   "source": [
    "person1_profession = 'student'"
   ]
  },
  {
   "cell_type": "code",
   "execution_count": null,
   "metadata": {},
   "outputs": [],
   "source": [
    "#Your code here\n",
    "    print('Person is married.')\n",
    "#Your code here\n",
    "    print('Person is a laborer.')\n",
    "#Your code here\n",
    "    print('Person is a widow.')\n",
    "#Your code here\n",
    "    print('Person has unknown profession.')"
   ]
  },
  {
   "cell_type": "markdown",
   "metadata": {},
   "source": [
    "### Exercise 9"
   ]
  },
  {
   "cell_type": "code",
   "execution_count": null,
   "metadata": {},
   "outputs": [],
   "source": [
    "person4_name = 'John Sanin(?)'"
   ]
  },
  {
   "cell_type": "markdown",
   "metadata": {},
   "source": [
    "\n",
    "Some of the Irish immigrants' names have question marks after them. Let's clean up some of the data and remove the question marks.\n",
    "\n",
    "You can use the Python keyword `in` to test whether a string appears within another string. Print `person4_name` with the question mark and parentheses removed. \n",
    "```{hint}\n",
    ":class: dropdown\n",
    "Remember the string method `.replace()`?"
   ]
  },
  {
   "cell_type": "code",
   "execution_count": null,
   "metadata": {},
   "outputs": [],
   "source": [
    "if \"(?)\" in person2_name:\n",
    "    #Your code here"
   ]
  },
  {
   "cell_type": "markdown",
   "metadata": {},
   "source": [
    "### Exercise 10\n",
    "In a few sentences, discuss the following dilemma. Python doesn't understand the historical context or human meaning behind data. What consequences might this incomprehension have on our society? How can we be sure to preserve the historical context and human meaning behind data when we are working with Python?"
   ]
  },
  {
   "cell_type": "markdown",
   "metadata": {},
   "source": [
    "**Double-click this cell to type your thoughts here**"
   ]
  }
 ],
 "metadata": {
  "kernelspec": {
   "display_name": "Python 3",
   "language": "python",
   "name": "python3"
  },
  "language_info": {
   "codemirror_mode": {
    "name": "ipython",
    "version": 3
   },
   "file_extension": ".py",
   "mimetype": "text/x-python",
   "name": "python",
   "nbconvert_exporter": "python",
   "pygments_lexer": "ipython3",
   "version": "3.7.4"
  }
 },
 "nbformat": 4,
 "nbformat_minor": 4
}
