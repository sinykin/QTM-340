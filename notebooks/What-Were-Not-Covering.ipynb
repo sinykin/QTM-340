{
 "cells": [
  {
   "cell_type": "markdown",
   "metadata": {},
   "source": [
    "# What We're Not Covering"
   ]
  },
  {
   "cell_type": "markdown",
   "metadata": {},
   "source": [
    "The Python lessons in this course are intended to cover the most practical and most basic elements of Python that you will need to know to collect and analyze cultural data. There are a range of subjects that we are not covering in this course, which you may want to learn about, including but not limited to:"
   ]
  },
  {
   "cell_type": "markdown",
   "metadata": {},
   "source": [
    "* [Full Explanation of Object Oriented Programming](https://realpython.com/python3-object-oriented-programming/)\n",
    "* [Python Classes](https://docs.python.org/3/tutorial/classes.html)\n",
    "* [Handling Python Exception Errors](https://docs.python.org/3/tutorial/errors.html#handling-exceptions)\n",
    "* [While Loops](https://docs.python.org/3/tutorial/errors.html#handling-exceptions)\n",
    "*  [Sets](https://docs.python.org/3.8/library/stdtypes.html#set-types-set-frozenset)\n",
    "* [Virtual Environments](https://realpython.com/python-virtual-environments-a-primer/)"
   ]
  }
 ],
 "metadata": {
  "kernelspec": {
   "display_name": "Python 3",
   "language": "python",
   "name": "python3"
  },
  "language_info": {
   "codemirror_mode": {
    "name": "ipython",
    "version": 3
   },
   "file_extension": ".py",
   "mimetype": "text/x-python",
   "name": "python",
   "nbconvert_exporter": "python",
   "pygments_lexer": "ipython3",
   "version": "3.7.6"
  }
 },
 "nbformat": 4,
 "nbformat_minor": 4
}
